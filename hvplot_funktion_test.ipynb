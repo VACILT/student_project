{
 "cells": [
  {
   "cell_type": "markdown",
   "metadata": {},
   "source": [
    "# Table of contents\n",
    "- [import Modules](###import-modules)\n",
    "- [combine files](###combine-files)\n",
    "- [select data](###select-data)\n",
    "- [plot data](###plot-data)"
   ]
  },
  {
   "cell_type": "markdown",
   "metadata": {},
   "source": [
    "### import Modules"
   ]
  },
  {
   "cell_type": "code",
   "execution_count": 7,
   "metadata": {},
   "outputs": [],
   "source": [
    "import numpy as np\n",
    "import holoviews as hv\n",
    "from holoviews import opts\n",
    "from holoviews import streams\n",
    "import xarray as xr\n",
    "import hvplot.xarray\n",
    "import glob\n",
    "#from scipy.stats import combine_pvalues\n",
    "#hv.extension('bokeh')\n",
    "#from ipywebrtc.webrtc import VideoRecorder, WidgetStream"
   ]
  },
  {
   "cell_type": "markdown",
   "metadata": {},
   "source": [
    "### combine files\n",
    "- [creating-a-dataset](http://xarray.pydata.org/en/stable/data-structures.html#creating-a-dataset)\n",
    "- [transforming-a-dataset](http://xarray.pydata.org/en/stable/data-structures.html#transforming-datasets)"
   ]
  },
  {
   "cell_type": "code",
   "execution_count": 8,
   "metadata": {},
   "outputs": [],
   "source": [
    "invar = 'zmnoy'\n",
    "infiles = sorted(glob.glob(f'zmnoy_files/{invar}*.nc'))\n",
    "ds_xa = xr.open_mfdataset(infiles, concat_dim='ens', combine = 'nested')# Open multiple files as a single dataset\n",
    "#ds_xa"
   ]
  },
  {
   "cell_type": "markdown",
   "metadata": {},
   "source": [
    "### select data"
   ]
  },
  {
   "cell_type": "code",
   "execution_count": 9,
   "metadata": {},
   "outputs": [],
   "source": [
    "sel_reg = 'f107'\n",
    "sel_month = 1\n",
    "month_names = ['January', 'February','March','April','May','June','July','Sep','Oct','Nov','Dec']\n",
    "sel_dict = dict(reg = sel_reg, month = sel_month)\n",
    "ds_sel = ds_xa.sel(**sel_dict).rename({'lat': 'x', 'plev': 'y'})\n",
    "ds_sel['coefs'].attrs['units'] = '%'\n",
    "ens_ls = ['WACCM_r1', 'WACCM_r2', 'WACCM_r3', 'SOCOL']\n",
    "ds_sel['ens'] = range(4)\n",
    "#ds_sel"
   ]
  },
  {
   "cell_type": "markdown",
   "metadata": {},
   "source": [
    "### plot data"
   ]
  },
  {
   "cell_type": "code",
   "execution_count": 10,
   "metadata": {},
   "outputs": [
    {
     "name": "stderr",
     "output_type": "stream",
     "text": [
      "WARNING:param.QuadMesh01440: Setting non-parameter attribute dynamic=True using a mechanism intended only for parameters\n"
     ]
    },
    {
     "name": "stdout",
     "output_type": "stream",
     "text": [
      "<xarray.Dataset>\n",
      "Dimensions:  (ens: 4, x: 73, y: 31)\n",
      "Coordinates:\n",
      "  * ens      (ens) int32 0 1 2 3\n",
      "    month    int64 1\n",
      "  * x        (x) float64 -90.0 -87.5 -85.0 -82.5 -80.0 ... 82.5 85.0 87.5 90.0\n",
      "  * y        (y) float64 1e+03 850.0 700.0 500.0 400.0 ... 1.0 0.5 0.3 0.2 0.1\n",
      "    reg      <U4 'f107'\n",
      "Data variables:\n",
      "    coefs    (ens, y, x) float64 dask.array<chunksize=(1, 31, 73), meta=np.ndarray>\n",
      "Attributes:\n",
      "    description:  Created 2019-09-18T16:41:33Z\n",
      "    config:       SH_regressors:\\n  CO2EQ:\\n    filename: /projekt4/hochatm/a...\n"
     ]
    }
   ],
   "source": [
    "ds = hv.Dataset(ds_sel[['coefs']], kdims = ['ens', 'x', 'y'])#\n",
    "print(ds_sel[['coefs']])\n",
    "\n",
    "vmax = 40\n",
    "vmin = -vmax\n",
    "f_width = 300\n",
    "hvc_opts = dict(logy = True, cmap = 'RdBu_r', symmetric=True, colorbar = True, \\\n",
    "                tools = ['hover'], invert_yaxis=True, frame_width = f_width)\n",
    "im = ds.to(hv.QuadMesh, ['x', 'y'], dynamic=True).redim.range(coefs=(vmin,vmax)).opts(**hvc_opts)\n",
    "im2 = ds.aggregate(['x','y'], np.mean).to(hv.QuadMesh, ['x', 'y'], dynamic=True)\n",
    "\n",
    "#im2 = im2.redim.range(coefs=(vmin,vmax)).opts(**hvc_opts)\n",
    "\n",
    "#im2"
   ]
  },
  {
   "cell_type": "code",
   "execution_count": null,
   "metadata": {},
   "outputs": [],
   "source": []
  }
 ],
 "metadata": {
  "jupytext": {
   "formats": "ipynb,py:light"
  },
  "kernelspec": {
   "display_name": "Python 3",
   "language": "python",
   "name": "python3"
  },
  "language_info": {
   "codemirror_mode": {
    "name": "ipython",
    "version": 3
   },
   "file_extension": ".py",
   "mimetype": "text/x-python",
   "name": "python",
   "nbconvert_exporter": "python",
   "pygments_lexer": "ipython3",
   "version": "3.7.0"
  }
 },
 "nbformat": 4,
 "nbformat_minor": 2
}
